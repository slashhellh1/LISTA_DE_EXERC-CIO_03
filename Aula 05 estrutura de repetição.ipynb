{
 "cells": [
  {
   "cell_type": "markdown",
   "metadata": {},
   "source": [
    "# Exercício 01\n",
    "Escreva um programa que imprima todos os números pares de 1\n",
    "a 100. (FOR)"
   ]
  },
  {
   "cell_type": "code",
   "execution_count": 11,
   "metadata": {},
   "outputs": [
    {
     "name": "stdout",
     "output_type": "stream",
     "text": [
      "2\n",
      "4\n",
      "6\n",
      "8\n",
      "10\n",
      "12\n",
      "14\n",
      "16\n",
      "18\n",
      "20\n",
      "22\n",
      "24\n",
      "26\n",
      "28\n",
      "30\n",
      "32\n",
      "34\n",
      "36\n",
      "38\n",
      "40\n",
      "42\n",
      "44\n",
      "46\n",
      "48\n",
      "50\n",
      "52\n",
      "54\n",
      "56\n",
      "58\n",
      "60\n",
      "62\n",
      "64\n",
      "66\n",
      "68\n",
      "70\n",
      "72\n",
      "74\n",
      "76\n",
      "78\n",
      "80\n",
      "82\n",
      "84\n",
      "86\n",
      "88\n",
      "90\n",
      "92\n",
      "94\n",
      "96\n",
      "98\n",
      "100\n"
     ]
    }
   ],
   "source": [
    "numeros = range(1,101) # criando um intervalo de 1 a 100\n",
    "\n",
    "for num in numeros:\n",
    "    if num % 2 == 0 :\n",
    "        print(num)"
   ]
  },
  {
   "cell_type": "markdown",
   "metadata": {},
   "source": [
    "# Exercício 02\n",
    "Crie um programa que conte quantas vezes a letra 'a' aparece em\n",
    "uma frase inserida pelo usuário. (FOR e IF)"
   ]
  },
  {
   "cell_type": "code",
   "execution_count": 12,
   "metadata": {},
   "outputs": [
    {
     "name": "stdout",
     "output_type": "stream",
     "text": [
      "A frase contém 0 letras A.\n"
     ]
    }
   ],
   "source": [
    "frase = input('Digite algo aqui: ').lower() #conversor de strings .lower para minúsculo e .upper para maiúsculo.\n",
    "\n",
    "\n",
    "contador = 0\n",
    "\n",
    "\n",
    "for letra in frase:\n",
    "\n",
    "    if letra == 'a':\n",
    "        contador = contador + 1\n",
    "\n",
    "print(f'A frase contém {contador} letras A.')"
   ]
  },
  {
   "cell_type": "markdown",
   "metadata": {},
   "source": [
    "# Exercício 03\n",
    "Faça um programa que calcule a soma dos números de 1 a 100.\n",
    "(FOR)"
   ]
  },
  {
   "cell_type": "code",
   "execution_count": 15,
   "metadata": {},
   "outputs": [
    {
     "name": "stdout",
     "output_type": "stream",
     "text": [
      "5050\n"
     ]
    }
   ],
   "source": [
    "# criando uma lista de 1 a 100\n",
    "numeros = range(1,101)\n",
    "# criar uma variavel acumuladora\n",
    "soma = 0\n",
    "\n",
    "for num in numeros:\n",
    "    soma = soma + num\n",
    "\n",
    "print(soma)\n"
   ]
  },
  {
   "cell_type": "markdown",
   "metadata": {},
   "source": [
    "# Exercício 04\n",
    "Crie um programa que solicite ao usuário que digite uma senha e\n",
    "continue pedindo até que a senha digitada seja igual a \"12345\". Quando a senha\n",
    "for correta, exiba uma mensagem de boas-vindas. (WHILE)"
   ]
  },
  {
   "cell_type": "code",
   "execution_count": 16,
   "metadata": {},
   "outputs": [
    {
     "name": "stdout",
     "output_type": "stream",
     "text": [
      "Seja bem-vindo!\n"
     ]
    }
   ],
   "source": [
    "senha = input('Digite a senha')\n",
    "\n",
    "while senha != '12345':\n",
    "    senha = input('Digite a senha')\n",
    "\n",
    "print('Seja bem-vindo!')"
   ]
  }
 ],
 "metadata": {
  "kernelspec": {
   "display_name": "Python 3",
   "language": "python",
   "name": "python3"
  },
  "language_info": {
   "codemirror_mode": {
    "name": "ipython",
    "version": 3
   },
   "file_extension": ".py",
   "mimetype": "text/x-python",
   "name": "python",
   "nbconvert_exporter": "python",
   "pygments_lexer": "ipython3",
   "version": "3.11.0"
  },
  "orig_nbformat": 4
 },
 "nbformat": 4,
 "nbformat_minor": 2
}
