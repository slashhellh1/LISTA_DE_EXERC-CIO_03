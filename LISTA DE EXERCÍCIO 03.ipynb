{
 "cells": [
  {
   "cell_type": "markdown",
   "metadata": {},
   "source": [
    "# Estrutura de repetição FOR"
   ]
  },
  {
   "cell_type": "code",
   "execution_count": 1,
   "metadata": {},
   "outputs": [
    {
     "name": "stdout",
     "output_type": "stream",
     "text": [
      "Abacaxi\n",
      "Laranja\n",
      "Goiaba\n",
      "Banana\n"
     ]
    }
   ],
   "source": [
    "frutas = ['Abacaxi','Laranja','Goiaba','Banana']\n",
    "\n",
    "for fruta in frutas:\n",
    "    print(fruta)"
   ]
  },
  {
   "cell_type": "markdown",
   "metadata": {},
   "source": [
    "# Exercício 01\n",
    " Crie ua estrutura de repetição para imprimir valores de 0 a 10"
   ]
  },
  {
   "cell_type": "code",
   "execution_count": 2,
   "metadata": {},
   "outputs": [
    {
     "name": "stdout",
     "output_type": "stream",
     "text": [
      "0\n",
      "1\n",
      "2\n",
      "3\n",
      "4\n",
      "5\n",
      "6\n",
      "7\n",
      "8\n",
      "9\n",
      "10\n"
     ]
    }
   ],
   "source": [
    "# criando uma lista com valores de 0 a 10.\n",
    "lista = [0,1,2,3,4,5,6,7,8,9,10]\n",
    "\n",
    "for numeros in lista:\n",
    "    print(numeros)\n"
   ]
  },
  {
   "cell_type": "markdown",
   "metadata": {},
   "source": [
    "# Exercício 02\n",
    " Faça um programa que leia um nome de usuário e a sua senha e não\n",
    "aceite a senha igual ao nome do usuário, mostrando uma mensagem de erro e voltando\n",
    "a pedir as informações."
   ]
  },
  {
   "cell_type": "code",
   "execution_count": null,
   "metadata": {},
   "outputs": [],
   "source": []
  },
  {
   "cell_type": "markdown",
   "metadata": {},
   "source": [
    "# Exercício 03\n",
    "Faça um programa que leia e valide as seguintes informações:\n",
    "\n",
    "a) Nome: maior que 3 caracteres;\n",
    "\n",
    "b) Idade: entre 0 e 150;\n",
    "\n",
    "c) Salário: maior que zero;\n",
    "\n",
    "d) Sexo: 'f' ou 'm';\n",
    "\n",
    "e) Estado Civil: 's', 'c', 'v', 'd'\n"
   ]
  },
  {
   "cell_type": "code",
   "execution_count": null,
   "metadata": {},
   "outputs": [],
   "source": []
  },
  {
   "cell_type": "markdown",
   "metadata": {},
   "source": [
    "# Exercício 04\n",
    "Supondo que a população de um país A seja da ordem de 80000\n",
    "habitantes com uma taxa anual de crescimento de 3% e que a população de B seja\n",
    "200000 habitantes com uma taxa de crescimento de 1.5%. Faça um programa que\n",
    "calcule e escreva o número de anos necessários para que a população do país A\n",
    "ultrapasse ou iguale a população do país B, mantidas as taxas de crescimento."
   ]
  },
  {
   "cell_type": "code",
   "execution_count": null,
   "metadata": {},
   "outputs": [],
   "source": []
  },
  {
   "cell_type": "markdown",
   "metadata": {},
   "source": [
    "# Exercício 05\n",
    "Altere o programa anterior permitindo ao usuário informar as populações\n",
    "e as taxas de crescimento iniciais. Valide a entrada e permita repetir a operação."
   ]
  },
  {
   "cell_type": "code",
   "execution_count": null,
   "metadata": {},
   "outputs": [],
   "source": []
  },
  {
   "cell_type": "markdown",
   "metadata": {},
   "source": [
    "# Exercício 06\n",
    "Faça um programa que imprima na tela os números de 1 a 20, um abaixo\n",
    "do outro. Depois modifique o programa para que ele mostre os números um ao lado do\n",
    "outro."
   ]
  },
  {
   "cell_type": "code",
   "execution_count": 3,
   "metadata": {},
   "outputs": [
    {
     "name": "stdout",
     "output_type": "stream",
     "text": [
      "1\n",
      "2\n",
      "3\n",
      "4\n",
      "5\n",
      "6\n",
      "7\n",
      "8\n",
      "9\n",
      "10\n",
      "11\n",
      "12\n",
      "13\n",
      "14\n",
      "15\n",
      "16\n",
      "17\n",
      "18\n",
      "19\n",
      "20\n"
     ]
    }
   ],
   "source": [
    "#num = [1,2,3,4,5,6,7,8,9,10,11,12,13,14,15,16,17,18,19,20]\n",
    "num = range(1,21)\n",
    "\n",
    "\n",
    "\n",
    "for n in num:\n",
    "    print(n)"
   ]
  },
  {
   "cell_type": "code",
   "execution_count": 4,
   "metadata": {},
   "outputs": [
    {
     "name": "stdout",
     "output_type": "stream",
     "text": [
      "[1, 2, 3, 4, 5, 6, 7, 8, 9, 10, 11, 12, 13, 14, 15, 16, 17, 18, 19, 20]\n"
     ]
    }
   ],
   "source": [
    "# Exibir valores na vertical.\n",
    "intervalo = range(1,21)\n",
    "\n",
    "lista = [] # Lista vazia\n",
    "\n",
    "for num in intervalo:\n",
    "    lista.append(num)\n",
    "# retirar o print da indentação da lista.append.    \n",
    "print(lista)"
   ]
  },
  {
   "cell_type": "markdown",
   "metadata": {},
   "source": [
    "# Exercício 07\n",
    "Faça um programa que leia 5 números e informe o maior número."
   ]
  },
  {
   "cell_type": "code",
   "execution_count": null,
   "metadata": {},
   "outputs": [],
   "source": []
  },
  {
   "cell_type": "markdown",
   "metadata": {},
   "source": [
    "# Exercício 08\n",
    "Faça um programa que leia 5 números e informe a soma e a média dos\n",
    "números."
   ]
  },
  {
   "cell_type": "code",
   "execution_count": 4,
   "metadata": {},
   "outputs": [
    {
     "name": "stdout",
     "output_type": "stream",
     "text": [
      "A lista contem os seguintes números: [1.0, 2.0, 3.0, 4.0, 5.0]\n",
      "A lista contém 5 numeros.\n",
      "A soma dos valores é 15.0.\n",
      "A média da soma dos valores é 3.0.\n"
     ]
    }
   ],
   "source": [
    "#criar a lista vazia\n",
    "lista_numeros = [] \n",
    "#variavel de controle de repetição\n",
    "i = 0\n",
    "#montar a estrutura de repetição \n",
    "# e insirir na lista (lista_numeros)\n",
    "while i < 5:\n",
    "    # solicitar a inserção de novos valores\n",
    "    numero = float(input('Digite um valor: '))\n",
    "\n",
    "    # adicionar o numero inserido na lista criada\n",
    "    lista_numeros.append(numero)\n",
    "\n",
    "    i += 1 # incremento de uma unidade na variavel\n",
    "print(f'A lista contem os seguintes números:',lista_numeros)\n",
    "print(f'A lista contém {i} numeros.')\n",
    "#Declarar a variavel para armazenar a soma dos valores\n",
    "\n",
    "soma = 0\n",
    "\n",
    "for x in lista_numeros:\n",
    "    # somar a variavel soma com o valor da variavel x\n",
    "    soma = soma + x\n",
    "print(f'A soma dos valores é {soma}.')\n",
    "\n",
    "media = soma / i\n",
    "\n",
    "print(f'A média da soma dos valores é {media}.')"
   ]
  },
  {
   "cell_type": "markdown",
   "metadata": {},
   "source": [
    "# Exercício 09\n",
    "Faça um programa que imprima na tela apenas os números ímpares\n",
    "entre 1 e 50."
   ]
  },
  {
   "cell_type": "code",
   "execution_count": 5,
   "metadata": {},
   "outputs": [
    {
     "name": "stdout",
     "output_type": "stream",
     "text": [
      "1\n",
      "3\n",
      "5\n",
      "7\n",
      "9\n",
      "11\n",
      "13\n",
      "15\n",
      "17\n",
      "19\n",
      "21\n",
      "23\n",
      "25\n",
      "27\n",
      "29\n",
      "31\n",
      "33\n",
      "35\n",
      "37\n",
      "39\n",
      "41\n",
      "43\n",
      "45\n",
      "47\n",
      "49\n"
     ]
    }
   ],
   "source": [
    "numeros = range(1,51)\n",
    "lista = []\n",
    "for num in numeros:\n",
    "    if num % 2 != 0:\n",
    "        print(num)"
   ]
  },
  {
   "cell_type": "markdown",
   "metadata": {},
   "source": [
    "# Exercício 10\n",
    "Faça um programa que receba dois números inteiros e gere os números\n",
    "inteiros que estão no intervalo compreendido por eles."
   ]
  },
  {
   "cell_type": "code",
   "execution_count": 6,
   "metadata": {},
   "outputs": [
    {
     "ename": "ValueError",
     "evalue": "invalid literal for int() with base 10: ''",
     "output_type": "error",
     "traceback": [
      "\u001b[1;31m---------------------------------------------------------------------------\u001b[0m",
      "\u001b[1;31mValueError\u001b[0m                                Traceback (most recent call last)",
      "Cell \u001b[1;32mIn[6], line 2\u001b[0m\n\u001b[0;32m      1\u001b[0m \u001b[39m# solicitar os numeros\u001b[39;00m\n\u001b[1;32m----> 2\u001b[0m inferior \u001b[39m=\u001b[39m \u001b[39mint\u001b[39;49m(\u001b[39minput\u001b[39;49m(\u001b[39m'\u001b[39;49m\u001b[39mInsira o menor número: \u001b[39;49m\u001b[39m'\u001b[39;49m))\n\u001b[0;32m      3\u001b[0m superior \u001b[39m=\u001b[39m \u001b[39mint\u001b[39m(\u001b[39minput\u001b[39m(\u001b[39m'\u001b[39m\u001b[39mInsira o maior número: \u001b[39m\u001b[39m'\u001b[39m))\n\u001b[0;32m      5\u001b[0m \u001b[39m# garantir que o numero inferior não seja maior que o superior\u001b[39;00m\n",
      "\u001b[1;31mValueError\u001b[0m: invalid literal for int() with base 10: ''"
     ]
    }
   ],
   "source": [
    "# solicitar os numeros\n",
    "inferior = int(input('Insira o menor número: '))\n",
    "superior = int(input('Insira o maior número: '))\n",
    "\n",
    "# garantir que o numero inferior não seja maior que o superior\n",
    "\n",
    "if inferior > superior:\n",
    "    inferior,superior = superior, inferior \n",
    "    \n",
    "# gerar uma faixa de valores\n",
    "numeros = range(inferior , superior + 1)\n",
    "#vazia = []\n",
    "for num in numeros:\n",
    "    print(num)"
   ]
  },
  {
   "cell_type": "markdown",
   "metadata": {},
   "source": [
    "# Exercício 11\n",
    "Altere o programa anterior para mostrar no final a soma dos números."
   ]
  },
  {
   "cell_type": "code",
   "execution_count": null,
   "metadata": {},
   "outputs": [],
   "source": [
    "inicio = int(input('Insira o menor número: '))\n",
    "fim = int(input('Insira o maior número: '))\n",
    "\n",
    "lista = range (inicio , fim + 1)\n",
    "#vazia = []\n",
    "for num in lista:\n",
    "    print(num)"
   ]
  },
  {
   "cell_type": "markdown",
   "metadata": {},
   "source": [
    "# Exercício 12 \n",
    " Desenvolva um gerador de tabuada, capaz de gerar a tabuada de\n",
    "qualquer número inteiro entre 1 a 10. O usuário deve informar \n",
    "de qual numero ele deseja\n",
    "ver a tabuada. A saída deve ser conforme o exemplo abaixo:"
   ]
  },
  {
   "cell_type": "code",
   "execution_count": null,
   "metadata": {},
   "outputs": [
    {
     "ename": "ValueError",
     "evalue": "invalid literal for int() with base 10: ''",
     "output_type": "error",
     "traceback": [
      "\u001b[1;31m---------------------------------------------------------------------------\u001b[0m",
      "\u001b[1;31mValueError\u001b[0m                                Traceback (most recent call last)",
      "Cell \u001b[1;32mIn[33], line 3\u001b[0m\n\u001b[0;32m      1\u001b[0m lista \u001b[39m=\u001b[39m [\u001b[39m1\u001b[39m,\u001b[39m2\u001b[39m,\u001b[39m3\u001b[39m,\u001b[39m4\u001b[39m,\u001b[39m5\u001b[39m,\u001b[39m6\u001b[39m,\u001b[39m7\u001b[39m,\u001b[39m8\u001b[39m,\u001b[39m9\u001b[39m,\u001b[39m10\u001b[39m]\n\u001b[1;32m----> 3\u001b[0m i \u001b[39m=\u001b[39m \u001b[39mint\u001b[39;49m(\u001b[39minput\u001b[39;49m(\u001b[39m'\u001b[39;49m\u001b[39mDigite o número: \u001b[39;49m\u001b[39m'\u001b[39;49m))\n\u001b[0;32m      5\u001b[0m \u001b[39mprint\u001b[39m(\u001b[39mf\u001b[39m\u001b[39m'\u001b[39m\u001b[39mTABUADA DO NÚMERO \u001b[39m\u001b[39m{\u001b[39;00mi\u001b[39m}\u001b[39;00m\u001b[39m'\u001b[39m)\n\u001b[0;32m      7\u001b[0m \u001b[39mfor\u001b[39;00m tabuada \u001b[39min\u001b[39;00m lista :\n",
      "\u001b[1;31mValueError\u001b[0m: invalid literal for int() with base 10: ''"
     ]
    }
   ],
   "source": [
    "lista = [1,2,3,4,5,6,7,8,9,10]\n",
    "\n",
    "i = int(input('Digite o número: '))\n",
    "\n",
    "print(f'TABUADA DO NÚMERO {i}')\n",
    "\n",
    "for tabuada in lista :\n",
    "    print(f'{i} X {tabuada} = {tabuada * i}')"
   ]
  },
  {
   "cell_type": "markdown",
   "metadata": {},
   "source": [
    "# Exercício 13\n",
    "Faça um programa que peça dois números, base e expoente, calcule e\n",
    "mostre o primeiro número elevado ao segundo número. Não utilize a função de potência\n",
    "da linguagem."
   ]
  },
  {
   "cell_type": "code",
   "execution_count": null,
   "metadata": {},
   "outputs": [],
   "source": []
  },
  {
   "cell_type": "markdown",
   "metadata": {},
   "source": [
    "# Exercício 14\n",
    "Faça um programa que peça 10 números inteiros, calcule e mostre a\n",
    "quantidade de números pares e a quantidade de números ímpares."
   ]
  },
  {
   "cell_type": "code",
   "execution_count": 10,
   "metadata": {},
   "outputs": [
    {
     "name": "stdout",
     "output_type": "stream",
     "text": [
      "Neste intervalo temos 48 números pares\n",
      "Neste intervalo temos 49 números impares\n"
     ]
    }
   ],
   "source": [
    "# usuario inputar 10 numeros\n",
    "\n",
    "#numeros = range(1,98) # criando um intervalo de 1 a 10\n",
    "numeros = int(input('Digite o número ínicial'))\n",
    "contador = 0\n",
    "contador2 = 0\n",
    "\n",
    "for num in numeros:\n",
    "    \n",
    "    if num % 2 == 0 :\n",
    "\n",
    "        contador = contador + 1\n",
    "print(f'Neste intervalo temos {contador} números pares')\n",
    "\n",
    "for num1 in numeros:\n",
    "\n",
    "    if num1 % 2 == 1 :\n",
    "\n",
    "        contador2 = contador2 + 1\n",
    "\n",
    "print(f'Neste intervalo temos {contador2} números impares')\n"
   ]
  },
  {
   "cell_type": "code",
   "execution_count": 16,
   "metadata": {},
   "outputs": [
    {
     "name": "stdout",
     "output_type": "stream",
     "text": [
      "Neste conjunto de números, contém 5 números ímpares e 5 números pares.\n"
     ]
    }
   ],
   "source": [
    "numeros = [] #lista vazia responsavel por armazenar os valores inseridos\n",
    "\n",
    "# variavel de controle de repetição \n",
    "i = 1\n",
    "\n",
    "while i <= 10:\n",
    "    numero = int(input('Digite um número inteiro: '))\n",
    "    #adicionar o numero digitado a lista numeros\n",
    "    numeros.append(numero)\n",
    "\n",
    "    i = i + 1\n",
    "\n",
    "# contadores\n",
    "impar = 0\n",
    "par = 0\n",
    "\n",
    "for num in numeros:\n",
    "    if num % 2 != 0:\n",
    "        #impar\n",
    "        impar +=  1\n",
    "    else:\n",
    "        par += 1\n",
    "\n",
    "print(f'Neste conjunto de números, contém {impar} números ímpares e {par} números pares.')"
   ]
  },
  {
   "cell_type": "code",
   "execution_count": 14,
   "metadata": {},
   "outputs": [
    {
     "name": "stdout",
     "output_type": "stream",
     "text": [
      "[1, 2, 3, 4, 5, 6, 5, 22, 55, 88, 89]\n"
     ]
    }
   ],
   "source": [
    "lista = [] #lista vazia\n",
    "\n",
    "i = 0 #variavel de controle\n",
    "\n",
    "while i <= 10:\n",
    "    numero = int(input('Digite um número: '))\n",
    "    lista.append(numero)\n",
    "\n",
    "    i = i + 1\n",
    "print(lista)"
   ]
  },
  {
   "cell_type": "markdown",
   "metadata": {},
   "source": [
    "# Exercício 15\n",
    "A série de Fibonacci é formada pela sequência 1,1,2,3,5,8,13,21,34,55,...\n",
    "Faça um programa capaz de gerar a série até o enésimo termo."
   ]
  },
  {
   "cell_type": "code",
   "execution_count": null,
   "metadata": {},
   "outputs": [],
   "source": []
  },
  {
   "cell_type": "markdown",
   "metadata": {},
   "source": [
    "# Exercício 17\n",
    "Faça um programa que calcule o fatorial de um número inteiro fornecido\n",
    "pelo usuário. Ex.: 5!=5.4.3.2.1=120"
   ]
  },
  {
   "cell_type": "code",
   "execution_count": 7,
   "metadata": {},
   "outputs": [
    {
     "name": "stdout",
     "output_type": "stream",
     "text": [
      "Calculando o Fatorial!!!\n",
      "120\n"
     ]
    }
   ],
   "source": [
    "print('Calculando o Fatorial!!!')\n",
    "\n",
    "# inserindo um numero\n",
    "\n",
    "i = int(input('Digite um número: '))\n",
    "# atribuindo valor \n",
    "fatorial = i\n",
    "\n",
    "while i >= 1:\n",
    "    i = i -1\n",
    "\n",
    "    if i != 0:\n",
    "        fatorial = fatorial * i\n",
    "\n",
    "    \n",
    "\n",
    "print(fatorial)\n",
    "\n",
    "\n",
    "\n"
   ]
  }
 ],
 "metadata": {
  "kernelspec": {
   "display_name": "Python 3",
   "language": "python",
   "name": "python3"
  },
  "language_info": {
   "codemirror_mode": {
    "name": "ipython",
    "version": 3
   },
   "file_extension": ".py",
   "mimetype": "text/x-python",
   "name": "python",
   "nbconvert_exporter": "python",
   "pygments_lexer": "ipython3",
   "version": "3.11.0"
  },
  "orig_nbformat": 4
 },
 "nbformat": 4,
 "nbformat_minor": 2
}
